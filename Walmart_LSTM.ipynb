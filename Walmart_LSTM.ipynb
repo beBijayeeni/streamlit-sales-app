{
 "cells": [
  {
   "cell_type": "code",
   "execution_count": 4,
   "id": "c5468b0c",
   "metadata": {},
   "outputs": [
    {
     "data": {
      "text/html": [
       "<div>\n",
       "<style scoped>\n",
       "    .dataframe tbody tr th:only-of-type {\n",
       "        vertical-align: middle;\n",
       "    }\n",
       "\n",
       "    .dataframe tbody tr th {\n",
       "        vertical-align: top;\n",
       "    }\n",
       "\n",
       "    .dataframe thead th {\n",
       "        text-align: right;\n",
       "    }\n",
       "</style>\n",
       "<table border=\"1\" class=\"dataframe\">\n",
       "  <thead>\n",
       "    <tr style=\"text-align: right;\">\n",
       "      <th></th>\n",
       "      <th>Store</th>\n",
       "      <th>Date</th>\n",
       "      <th>Weekly_Sales</th>\n",
       "      <th>Holiday_Flag</th>\n",
       "      <th>Temperature</th>\n",
       "      <th>Fuel_Price</th>\n",
       "      <th>CPI</th>\n",
       "      <th>Unemployment</th>\n",
       "    </tr>\n",
       "  </thead>\n",
       "  <tbody>\n",
       "    <tr>\n",
       "      <th>0</th>\n",
       "      <td>1</td>\n",
       "      <td>05-02-2010</td>\n",
       "      <td>1643690.90</td>\n",
       "      <td>0</td>\n",
       "      <td>42.31</td>\n",
       "      <td>2.572</td>\n",
       "      <td>211.096358</td>\n",
       "      <td>8.106</td>\n",
       "    </tr>\n",
       "    <tr>\n",
       "      <th>1</th>\n",
       "      <td>1</td>\n",
       "      <td>12-02-2010</td>\n",
       "      <td>1641957.44</td>\n",
       "      <td>1</td>\n",
       "      <td>38.51</td>\n",
       "      <td>2.548</td>\n",
       "      <td>211.242170</td>\n",
       "      <td>8.106</td>\n",
       "    </tr>\n",
       "    <tr>\n",
       "      <th>2</th>\n",
       "      <td>1</td>\n",
       "      <td>19-02-2010</td>\n",
       "      <td>1611968.17</td>\n",
       "      <td>0</td>\n",
       "      <td>39.93</td>\n",
       "      <td>2.514</td>\n",
       "      <td>211.289143</td>\n",
       "      <td>8.106</td>\n",
       "    </tr>\n",
       "    <tr>\n",
       "      <th>3</th>\n",
       "      <td>1</td>\n",
       "      <td>26-02-2010</td>\n",
       "      <td>1409727.59</td>\n",
       "      <td>0</td>\n",
       "      <td>46.63</td>\n",
       "      <td>2.561</td>\n",
       "      <td>211.319643</td>\n",
       "      <td>8.106</td>\n",
       "    </tr>\n",
       "    <tr>\n",
       "      <th>4</th>\n",
       "      <td>1</td>\n",
       "      <td>05-03-2010</td>\n",
       "      <td>1554806.68</td>\n",
       "      <td>0</td>\n",
       "      <td>46.50</td>\n",
       "      <td>2.625</td>\n",
       "      <td>211.350143</td>\n",
       "      <td>8.106</td>\n",
       "    </tr>\n",
       "    <tr>\n",
       "      <th>...</th>\n",
       "      <td>...</td>\n",
       "      <td>...</td>\n",
       "      <td>...</td>\n",
       "      <td>...</td>\n",
       "      <td>...</td>\n",
       "      <td>...</td>\n",
       "      <td>...</td>\n",
       "      <td>...</td>\n",
       "    </tr>\n",
       "    <tr>\n",
       "      <th>6430</th>\n",
       "      <td>45</td>\n",
       "      <td>28-09-2012</td>\n",
       "      <td>713173.95</td>\n",
       "      <td>0</td>\n",
       "      <td>64.88</td>\n",
       "      <td>3.997</td>\n",
       "      <td>192.013558</td>\n",
       "      <td>8.684</td>\n",
       "    </tr>\n",
       "    <tr>\n",
       "      <th>6431</th>\n",
       "      <td>45</td>\n",
       "      <td>05-10-2012</td>\n",
       "      <td>733455.07</td>\n",
       "      <td>0</td>\n",
       "      <td>64.89</td>\n",
       "      <td>3.985</td>\n",
       "      <td>192.170412</td>\n",
       "      <td>8.667</td>\n",
       "    </tr>\n",
       "    <tr>\n",
       "      <th>6432</th>\n",
       "      <td>45</td>\n",
       "      <td>12-10-2012</td>\n",
       "      <td>734464.36</td>\n",
       "      <td>0</td>\n",
       "      <td>54.47</td>\n",
       "      <td>4.000</td>\n",
       "      <td>192.327265</td>\n",
       "      <td>8.667</td>\n",
       "    </tr>\n",
       "    <tr>\n",
       "      <th>6433</th>\n",
       "      <td>45</td>\n",
       "      <td>19-10-2012</td>\n",
       "      <td>718125.53</td>\n",
       "      <td>0</td>\n",
       "      <td>56.47</td>\n",
       "      <td>3.969</td>\n",
       "      <td>192.330854</td>\n",
       "      <td>8.667</td>\n",
       "    </tr>\n",
       "    <tr>\n",
       "      <th>6434</th>\n",
       "      <td>45</td>\n",
       "      <td>26-10-2012</td>\n",
       "      <td>760281.43</td>\n",
       "      <td>0</td>\n",
       "      <td>58.85</td>\n",
       "      <td>3.882</td>\n",
       "      <td>192.308899</td>\n",
       "      <td>8.667</td>\n",
       "    </tr>\n",
       "  </tbody>\n",
       "</table>\n",
       "<p>6435 rows × 8 columns</p>\n",
       "</div>"
      ],
      "text/plain": [
       "      Store        Date  Weekly_Sales  Holiday_Flag  Temperature  Fuel_Price  \\\n",
       "0         1  05-02-2010    1643690.90             0        42.31       2.572   \n",
       "1         1  12-02-2010    1641957.44             1        38.51       2.548   \n",
       "2         1  19-02-2010    1611968.17             0        39.93       2.514   \n",
       "3         1  26-02-2010    1409727.59             0        46.63       2.561   \n",
       "4         1  05-03-2010    1554806.68             0        46.50       2.625   \n",
       "...     ...         ...           ...           ...          ...         ...   \n",
       "6430     45  28-09-2012     713173.95             0        64.88       3.997   \n",
       "6431     45  05-10-2012     733455.07             0        64.89       3.985   \n",
       "6432     45  12-10-2012     734464.36             0        54.47       4.000   \n",
       "6433     45  19-10-2012     718125.53             0        56.47       3.969   \n",
       "6434     45  26-10-2012     760281.43             0        58.85       3.882   \n",
       "\n",
       "             CPI  Unemployment  \n",
       "0     211.096358         8.106  \n",
       "1     211.242170         8.106  \n",
       "2     211.289143         8.106  \n",
       "3     211.319643         8.106  \n",
       "4     211.350143         8.106  \n",
       "...          ...           ...  \n",
       "6430  192.013558         8.684  \n",
       "6431  192.170412         8.667  \n",
       "6432  192.327265         8.667  \n",
       "6433  192.330854         8.667  \n",
       "6434  192.308899         8.667  \n",
       "\n",
       "[6435 rows x 8 columns]"
      ]
     },
     "execution_count": 4,
     "metadata": {},
     "output_type": "execute_result"
    }
   ],
   "source": [
    "#Load and read the Walmart sales dataset\n",
    "import pandas as pd\n",
    "sales_data = pd.read_csv(\"C://Users//halde//Videos//games//Walmart.csv\")\n",
    "sales_data"
   ]
  },
  {
   "cell_type": "code",
   "execution_count": 5,
   "id": "3038d9a5",
   "metadata": {},
   "outputs": [
    {
     "name": "stdout",
     "output_type": "stream",
     "text": [
      "Missing Values:\n",
      " Store           0\n",
      "Date            0\n",
      "Weekly_Sales    0\n",
      "Holiday_Flag    0\n",
      "Temperature     0\n",
      "Fuel_Price      0\n",
      "CPI             0\n",
      "Unemployment    0\n",
      "dtype: int64\n"
     ]
    }
   ],
   "source": [
    "#Check for missing values in the dataset\n",
    "missing_values = sales_data.isnull().sum()\n",
    "print(\"Missing Values:\\n\", missing_values)"
   ]
  },
  {
   "cell_type": "code",
   "execution_count": 17,
   "id": "03174749",
   "metadata": {},
   "outputs": [
    {
     "name": "stdout",
     "output_type": "stream",
     "text": [
      "(5148, 8)\n",
      "(1287, 8)\n"
     ]
    }
   ],
   "source": [
    "#Split the data into train and test sets\n",
    "train_size = int(len(sales_data) * 0.8)\n",
    "train = (sales_data[:train_size])\n",
    "test = (sales_data[train_size:])\n",
    "print(train.shape)\n",
    "print(test.shape)"
   ]
  },
  {
   "cell_type": "code",
   "execution_count": 18,
   "id": "033e3ab5",
   "metadata": {},
   "outputs": [],
   "source": [
    "#Scale the data\n",
    "from sklearn.preprocessing import MinMaxScaler\n",
    "scaler = MinMaxScaler()\n",
    "train_scaled = scaler.fit_transform(train['Weekly_Sales'].values.reshape(-1, 1))\n",
    "test_scaled = scaler.transform(test['Weekly_Sales'].values.reshape(-1, 1))"
   ]
  },
  {
   "cell_type": "code",
   "execution_count": 19,
   "id": "79344ade",
   "metadata": {},
   "outputs": [],
   "source": [
    "#Prepare the data for LSTM\n",
    "import numpy as np\n",
    "def prepare_data(data, time_steps=1):\n",
    "    X, y = [], []\n",
    "    for i in range(len(data) - time_steps):\n",
    "        X.append(data[i:i+time_steps, 0])\n",
    "        y.append(data[i+time_steps, 0])\n",
    "    return np.array(X), np.array(y)\n",
    "time_steps = 5\n",
    "X_train, y_train = prepare_data(train_scaled, time_steps)\n",
    "X_test, y_test = prepare_data(test_scaled, time_steps)"
   ]
  },
  {
   "cell_type": "code",
   "execution_count": 20,
   "id": "a5562661",
   "metadata": {},
   "outputs": [
    {
     "name": "stderr",
     "output_type": "stream",
     "text": [
      "C:\\Users\\halde\\anaconda3\\lib\\site-packages\\keras\\src\\layers\\rnn\\rnn.py:204: UserWarning: Do not pass an `input_shape`/`input_dim` argument to a layer. When using Sequential models, prefer using an `Input(shape)` object as the first layer in the model instead.\n",
      "  super().__init__(**kwargs)\n"
     ]
    }
   ],
   "source": [
    "#Build the LSTM model\n",
    "from tensorflow.keras.models import Sequential\n",
    "from tensorflow.keras.layers import LSTM, Dense\n",
    "model = Sequential()\n",
    "model.add(LSTM(units=50, activation='relu', input_shape=(time_steps, 1)))\n",
    "model.add(Dense(units=1))\n",
    "model.compile(optimizer='adam', loss='mean_squared_error',metrics=['accuracy'])"
   ]
  },
  {
   "cell_type": "code",
   "execution_count": 21,
   "id": "f553cf03",
   "metadata": {},
   "outputs": [
    {
     "data": {
      "text/plain": [
       "<keras.src.callbacks.history.History at 0x246583b2d30>"
      ]
     },
     "execution_count": 21,
     "metadata": {},
     "output_type": "execute_result"
    }
   ],
   "source": [
    "#Train the model\n",
    "model.fit(X_train, y_train, epochs=10, batch_size=16, verbose=0)"
   ]
  },
  {
   "cell_type": "code",
   "execution_count": 22,
   "id": "9a7798e9",
   "metadata": {},
   "outputs": [
    {
     "name": "stdout",
     "output_type": "stream",
     "text": [
      "\u001b[1m41/41\u001b[0m \u001b[32m━━━━━━━━━━━━━━━━━━━━\u001b[0m\u001b[37m\u001b[0m \u001b[1m1s\u001b[0m 8ms/step\n"
     ]
    }
   ],
   "source": [
    "#Make predictions\n",
    "test_predictions = model.predict(X_test)"
   ]
  },
  {
   "cell_type": "code",
   "execution_count": 23,
   "id": "58bdf620",
   "metadata": {},
   "outputs": [
    {
     "name": "stdout",
     "output_type": "stream",
     "text": [
      "[[517440.38]\n",
      " [515110.7 ]\n",
      " [484154.22]\n",
      " ...\n",
      " [724776.94]\n",
      " [732425.8 ]\n",
      " [724494.1 ]]\n"
     ]
    }
   ],
   "source": [
    "#Transform the`predicted_sales`from the scaled representation back to the original units of the data\n",
    "predicted_sales = scaler.inverse_transform(test_predictions)\n",
    "print(predicted_sales)"
   ]
  },
  {
   "cell_type": "code",
   "execution_count": 24,
   "id": "aca2382b",
   "metadata": {},
   "outputs": [
    {
     "name": "stdout",
     "output_type": "stream",
     "text": [
      "Test RMSE: 111127.62\n",
      "Test MAPE: 6.70%\n",
      "AVerage Accuracy: 93.30%\n"
     ]
    }
   ],
   "source": [
    "#Compute accuracy metrics\n",
    "from sklearn.metrics import mean_squared_error\n",
    "test_rmse = np.sqrt(mean_squared_error(test['Weekly_Sales'][time_steps:], predicted_sales[:, 0]))\n",
    "test_mape = np.mean(np.abs((test['Weekly_Sales'][time_steps:].values - predicted_sales[:, 0]) / test['Weekly_Sales'][time_steps:].values)) * 100\n",
    "print(f'Test RMSE: {test_rmse:.2f}')\n",
    "print(f'Test MAPE: {test_mape:.2f}%')\n",
    "print(f'AVerage Accuracy: {100-test_mape:.2f}%')"
   ]
  },
  {
   "cell_type": "code",
   "execution_count": 25,
   "id": "77ae12e8",
   "metadata": {},
   "outputs": [],
   "source": [
    "#Plot actual vs predicted values for the test set\n",
    "import matplotlib\n",
    "matplotlib.use('TkAgg')\n",
    "import matplotlib.pyplot as plt\n",
    "plt.plot(test.index[time_steps:], test['Weekly_Sales'][time_steps:], label='Actual')\n",
    "plt.plot(test.index[time_steps:], predicted_sales[:, 0], label='Predicted')\n",
    "plt.legend()\n",
    "plt.show()"
   ]
  },
  {
   "cell_type": "code",
   "execution_count": 26,
   "id": "3ee44f49",
   "metadata": {},
   "outputs": [
    {
     "name": "stderr",
     "output_type": "stream",
     "text": [
      "WARNING:absl:You are saving your model as an HDF5 file via `model.save()` or `keras.saving.save_model(model)`. This file format is considered legacy. We recommend using instead the native Keras format, e.g. `model.save('my_model.keras')` or `keras.saving.save_model(model, 'my_model.keras')`. \n"
     ]
    }
   ],
   "source": [
    "#Save the model\n",
    "model.save(\"lstm_model.h5\")"
   ]
  },
  {
   "cell_type": "code",
   "execution_count": null,
   "id": "7f7e658b",
   "metadata": {},
   "outputs": [],
   "source": []
  }
 ],
 "metadata": {
  "kernelspec": {
   "display_name": "Python 3 (ipykernel)",
   "language": "python",
   "name": "python3"
  },
  "language_info": {
   "codemirror_mode": {
    "name": "ipython",
    "version": 3
   },
   "file_extension": ".py",
   "mimetype": "text/x-python",
   "name": "python",
   "nbconvert_exporter": "python",
   "pygments_lexer": "ipython3",
   "version": "3.9.13"
  }
 },
 "nbformat": 4,
 "nbformat_minor": 5
}
